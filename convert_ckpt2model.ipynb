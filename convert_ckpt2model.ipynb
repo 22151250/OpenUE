{
 "cells": [
  {
   "cell_type": "code",
   "execution_count": 1,
   "source": [
    "import torch\n",
    "from openue.models import BertForNER"
   ],
   "outputs": [],
   "metadata": {}
  },
  {
   "cell_type": "code",
   "execution_count": null,
   "source": [
    "ner_path = \"output/epoch=0-Eval/f1=0.91-v1.ckpt\"\n",
    "seq_path = \"\"\n"
   ],
   "outputs": [],
   "metadata": {}
  }
 ],
 "metadata": {
  "orig_nbformat": 4,
  "language_info": {
   "name": "python",
   "version": "3.8.8",
   "mimetype": "text/x-python",
   "codemirror_mode": {
    "name": "ipython",
    "version": 3
   },
   "pygments_lexer": "ipython3",
   "nbconvert_exporter": "python",
   "file_extension": ".py"
  },
  "kernelspec": {
   "name": "python3",
   "display_name": "Python 3.8.8 64-bit ('py38': conda)"
  },
  "interpreter": {
   "hash": "6de3b822d1b538d2d6b15a3459565f8e60e688084afb22e7aa707dd9a13ee5db"
  }
 },
 "nbformat": 4,
 "nbformat_minor": 2
}